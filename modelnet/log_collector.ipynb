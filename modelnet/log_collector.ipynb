{
 "cells": [
  {
   "cell_type": "code",
   "execution_count": 4,
   "metadata": {},
   "outputs": [],
   "source": [
    "import os\n",
    "import json\n",
    "from pathlib import Path"
   ]
  },
  {
   "cell_type": "code",
   "execution_count": 5,
   "metadata": {},
   "outputs": [],
   "source": [
    "def result_getter(path):\n",
    "    l = path.split(\"/\")[-2:]\n",
    "    s = str(l[0] + \"_\" + l[1])\n",
    "    RESULTS = os.path.join(\"../results/csv/modelnet/\")\n",
    "    Path(RESULTS).mkdir(exist_ok=True, parents=True)\n",
    "    \n",
    "    for children in os.walk(path):\n",
    "        if \"finetune\" in children[0]:\n",
    "            target_file = os.path.join(children[0], \"test.log\")\n",
    "\n",
    "            with open(target_file, \"r\") as f:\n",
    "                data = f.readlines()\n",
    "                acc, att_acc = None, None\n",
    "                for line in data:\n",
    "                    split = line.split(\" \")\n",
    "                    if split[0] == \"Accuracy\":\n",
    "                        acc = float(split[-1])\n",
    "                    elif split[0] == \"Attacker\" and split[1] == \"Accuracy\":\n",
    "                        att_acc = float(split[-1])\n",
    "\n",
    "                print(target_file)\n",
    "                print(acc, att_acc)\n",
    "                print(\"--\"*32)\n",
    "                \n",
    "            with open(os.path.join(RESULTS, s), \"a\") as f:\n",
    "                if acc is not None and att_acc is not None:\n",
    "                    f.write(str(acc) + \",\" + str(1-att_acc))\n",
    "                    f.write(\"\\n\")\n"
   ]
  },
  {
   "cell_type": "code",
   "execution_count": 6,
   "metadata": {},
   "outputs": [
    {
     "name": "stdout",
     "output_type": "stream",
     "text": [
      "log_64/learnt/fps/0_100/finetune/test.log\n",
      "0.60625 0.471875\n",
      "----------------------------------------------------------------\n",
      "log_64/learnt/fps/0_25/finetune/test.log\n",
      "0.590625 0.565625\n",
      "----------------------------------------------------------------\n",
      "log_64/learnt/fps/0_1e-1/finetune/test.log\n",
      "0.99375 0.95625\n",
      "----------------------------------------------------------------\n",
      "log_64/learnt/fps/0_1/finetune/test.log\n",
      "0.9875 0.959375\n",
      "----------------------------------------------------------------\n",
      "log_64/learnt/fps/0_10/finetune/test.log\n",
      "0.778125 0.528125\n",
      "----------------------------------------------------------------\n",
      "log_64/learnt/fps/0_75/finetune/test.log\n",
      "0.66875 0.54375\n",
      "----------------------------------------------------------------\n",
      "log_64/learnt/fps/0_50/finetune/test.log\n",
      "0.628125 0.525\n",
      "----------------------------------------------------------------\n"
     ]
    }
   ],
   "source": [
    "ignore = [\"learnt\"]\n",
    "for method in os.listdir(\"log_64/\"):\n",
    "    if method in ignore:\n",
    "        p1 = os.path.join(\"log_64\", method)\n",
    "        for sampler in os.listdir(p1):\n",
    "            if sampler == \"fps\":\n",
    "                final_path = os.path.join(p1, sampler)\n",
    "                result_getter(final_path)"
   ]
  },
  {
   "cell_type": "code",
   "execution_count": 7,
   "metadata": {},
   "outputs": [],
   "source": [
    "# for child in os.walk(\"log_64/adv/csn\"):\n",
    "#     print(child)\n",
    "#     print(\"--\"*32)"
   ]
  },
  {
   "cell_type": "code",
   "execution_count": null,
   "metadata": {},
   "outputs": [],
   "source": []
  }
 ],
 "metadata": {
  "kernelspec": {
   "display_name": "Python 3",
   "language": "python",
   "name": "python3"
  },
  "language_info": {
   "codemirror_mode": {
    "name": "ipython",
    "version": 3
   },
   "file_extension": ".py",
   "mimetype": "text/x-python",
   "name": "python",
   "nbconvert_exporter": "python",
   "pygments_lexer": "ipython3",
   "version": "3.8.10"
  }
 },
 "nbformat": 4,
 "nbformat_minor": 4
}
